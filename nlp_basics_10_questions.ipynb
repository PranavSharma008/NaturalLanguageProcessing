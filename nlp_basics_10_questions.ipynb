{
  "nbformat": 4,
  "nbformat_minor": 0,
  "metadata": {
    "colab": {
      "name": "nlp basics 10 questions.ipynb",
      "provenance": [],
      "collapsed_sections": []
    },
    "kernelspec": {
      "name": "python3",
      "display_name": "Python 3"
    },
    "language_info": {
      "name": "python"
    }
  },
  "cells": [
    {
      "cell_type": "markdown",
      "metadata": {
        "id": "8RKOLT2kGVJO"
      },
      "source": [
        "## Pre work before the questions - some variables used later in questions can be found here. Most of them have been re-calculated under each question's heading.\n",
        "\n"
      ]
    },
    {
      "cell_type": "code",
      "metadata": {
        "colab": {
          "base_uri": "https://localhost:8080/"
        },
        "id": "r0xIAzb0ilAY",
        "outputId": "c7dd8685-9776-4099-a86b-8ed88b7ac570"
      },
      "source": [
        "import nltk\n",
        "nltk.download('gutenberg')\n",
        "nltk.corpus.gutenberg.fileids()"
      ],
      "execution_count": null,
      "outputs": [
        {
          "output_type": "stream",
          "name": "stdout",
          "text": [
            "[nltk_data] Downloading package gutenberg to /root/nltk_data...\n",
            "[nltk_data]   Package gutenberg is already up-to-date!\n"
          ]
        },
        {
          "output_type": "execute_result",
          "data": {
            "text/plain": [
              "['austen-emma.txt',\n",
              " 'austen-persuasion.txt',\n",
              " 'austen-sense.txt',\n",
              " 'bible-kjv.txt',\n",
              " 'blake-poems.txt',\n",
              " 'bryant-stories.txt',\n",
              " 'burgess-busterbrown.txt',\n",
              " 'carroll-alice.txt',\n",
              " 'chesterton-ball.txt',\n",
              " 'chesterton-brown.txt',\n",
              " 'chesterton-thursday.txt',\n",
              " 'edgeworth-parents.txt',\n",
              " 'melville-moby_dick.txt',\n",
              " 'milton-paradise.txt',\n",
              " 'shakespeare-caesar.txt',\n",
              " 'shakespeare-hamlet.txt',\n",
              " 'shakespeare-macbeth.txt',\n",
              " 'whitman-leaves.txt']"
            ]
          },
          "metadata": {},
          "execution_count": 203
        }
      ]
    },
    {
      "cell_type": "code",
      "metadata": {
        "colab": {
          "base_uri": "https://localhost:8080/",
          "height": 36
        },
        "id": "BUOa1jEsjlgd",
        "outputId": "bb8f6ce8-0b12-41cb-95c4-0953b97e1878"
      },
      "source": [
        "shakespear= nltk.corpus.gutenberg.fileids()[-2]\n",
        "shakespear"
      ],
      "execution_count": null,
      "outputs": [
        {
          "output_type": "execute_result",
          "data": {
            "application/vnd.google.colaboratory.intrinsic+json": {
              "type": "string"
            },
            "text/plain": [
              "'shakespeare-macbeth.txt'"
            ]
          },
          "metadata": {},
          "execution_count": 204
        }
      ]
    },
    {
      "cell_type": "code",
      "metadata": {
        "id": "rJ498CNHj7lS"
      },
      "source": [
        "macbeth=nltk.corpus.gutenberg.raw(shakespear)\n",
        "# raw function gives us the contents of the file without any linguistic processing"
      ],
      "execution_count": null,
      "outputs": []
    },
    {
      "cell_type": "code",
      "metadata": {
        "colab": {
          "base_uri": "https://localhost:8080/"
        },
        "id": "7y5dWP1toSZ1",
        "outputId": "c8510978-c91d-46f3-b068-4927be8668d0"
      },
      "source": [
        "print(len(macbeth))\n",
        "print(type(macbeth))"
      ],
      "execution_count": null,
      "outputs": [
        {
          "output_type": "stream",
          "name": "stdout",
          "text": [
            "100351\n",
            "<class 'str'>\n"
          ]
        }
      ]
    },
    {
      "cell_type": "code",
      "metadata": {
        "colab": {
          "base_uri": "https://localhost:8080/"
        },
        "id": "ek2-b-oQo7hj",
        "outputId": "70f3466e-9f06-41c4-9e4c-c2a6b166cac5"
      },
      "source": [
        "macbeth_words = nltk.corpus.gutenberg.words(shakespear)\n",
        "len(macbeth_words)"
      ],
      "execution_count": null,
      "outputs": [
        {
          "output_type": "execute_result",
          "data": {
            "text/plain": [
              "23140"
            ]
          },
          "metadata": {},
          "execution_count": 207
        }
      ]
    },
    {
      "cell_type": "code",
      "metadata": {
        "colab": {
          "base_uri": "https://localhost:8080/"
        },
        "id": "bnyoUcGyqO21",
        "outputId": "95cb6eb8-3aca-4e57-c1c2-b15a7e3f319a"
      },
      "source": [
        "\n",
        "import nltk\n",
        "nltk.download('punkt')\n",
        "\n",
        "macbeth_sentences = nltk.corpus.gutenberg.sents(shakespear)\n",
        "macbeth_sentences"
      ],
      "execution_count": null,
      "outputs": [
        {
          "output_type": "stream",
          "name": "stdout",
          "text": [
            "[nltk_data] Downloading package punkt to /root/nltk_data...\n",
            "[nltk_data]   Package punkt is already up-to-date!\n"
          ]
        },
        {
          "output_type": "execute_result",
          "data": {
            "text/plain": [
              "[['[', 'The', 'Tragedie', 'of', 'Macbeth', 'by', 'William', 'Shakespeare', '1603', ']'], ['Actus', 'Primus', '.'], ...]"
            ]
          },
          "metadata": {},
          "execution_count": 208
        }
      ]
    },
    {
      "cell_type": "code",
      "metadata": {
        "id": "_s0gGxRJqumX"
      },
      "source": [
        "# longest length sentence in macbeth book\n",
        "longest_len=max(len(s) for s in macbeth_sentences)"
      ],
      "execution_count": null,
      "outputs": []
    },
    {
      "cell_type": "code",
      "metadata": {
        "id": "YrvwaD2rti5k"
      },
      "source": [
        "#Macbeth is calculated above this\n",
        "macbeth_tokenized = nltk.word_tokenize(macbeth)"
      ],
      "execution_count": null,
      "outputs": []
    },
    {
      "cell_type": "markdown",
      "metadata": {
        "id": "1k5_mC33d1Tm"
      },
      "source": [
        "## Question 1"
      ]
    },
    {
      "cell_type": "code",
      "metadata": {
        "colab": {
          "base_uri": "https://localhost:8080/"
        },
        "id": "fcnV5X4au3wB",
        "outputId": "483f840b-bd3e-44ac-9b9d-6d58d9d767b7"
      },
      "source": [
        "shakespear= nltk.corpus.gutenberg.fileids()[-2]\n",
        "macbeth=nltk.corpus.gutenberg.raw(shakespear) # raw function gives us the contents of the file without any linguistic processing\n",
        "import nltk\n",
        "nltk.download('punkt')\n",
        "macbeth_tokenized = nltk.word_tokenize(macbeth)\n",
        "len(macbeth_tokenized)"
      ],
      "execution_count": null,
      "outputs": [
        {
          "output_type": "stream",
          "name": "stdout",
          "text": [
            "[nltk_data] Downloading package punkt to /root/nltk_data...\n",
            "[nltk_data]   Package punkt is already up-to-date!\n"
          ]
        },
        {
          "output_type": "execute_result",
          "data": {
            "text/plain": [
              "22211"
            ]
          },
          "metadata": {},
          "execution_count": 211
        }
      ]
    },
    {
      "cell_type": "markdown",
      "metadata": {
        "id": "o_feS7sbd4pa"
      },
      "source": [
        "## Question 2"
      ]
    },
    {
      "cell_type": "code",
      "metadata": {
        "colab": {
          "base_uri": "https://localhost:8080/"
        },
        "id": "GQe0drUd8Wxv",
        "outputId": "9febbb09-8e45-4675-869b-f3a11466139f"
      },
      "source": [
        "#Q2\n",
        "len(macbeth)/len(macbeth_tokenized)"
      ],
      "execution_count": null,
      "outputs": [
        {
          "output_type": "execute_result",
          "data": {
            "text/plain": [
              "4.518076628697492"
            ]
          },
          "metadata": {},
          "execution_count": 212
        }
      ]
    },
    {
      "cell_type": "markdown",
      "metadata": {
        "id": "tvtdNpqbdSNp"
      },
      "source": [
        "## Question 3 and Question 4"
      ]
    },
    {
      "cell_type": "code",
      "metadata": {
        "colab": {
          "base_uri": "https://localhost:8080/"
        },
        "id": "fGM6xtzpwNt2",
        "outputId": "7ff9450d-d560-47e7-f56a-e5201dcfe3bb"
      },
      "source": [
        "#Q3, Q4\n",
        "nltk.download('stopwords')\n",
        "nltk_stops = nltk.corpus.stopwords.words('english')\n",
        "## removing stop words\n",
        "macbeth_tokenized=[w for w in macbeth_tokenized if w not in nltk_stops]\n",
        "len(macbeth_tokenized)"
      ],
      "execution_count": null,
      "outputs": [
        {
          "output_type": "stream",
          "name": "stdout",
          "text": [
            "[nltk_data] Downloading package stopwords to /root/nltk_data...\n",
            "[nltk_data]   Package stopwords is already up-to-date!\n"
          ]
        },
        {
          "output_type": "execute_result",
          "data": {
            "text/plain": [
              "16319"
            ]
          },
          "metadata": {},
          "execution_count": 213
        }
      ]
    },
    {
      "cell_type": "code",
      "metadata": {
        "colab": {
          "base_uri": "https://localhost:8080/"
        },
        "id": "bjKO1xidw05L",
        "outputId": "232dd95e-9c57-4321-fd37-ae8fc543968c"
      },
      "source": [
        "# Removing punctuation\n",
        "macbeth_tokenized = [y for y in macbeth_tokenized if y.isalpha()]\n",
        "len(macbeth_tokenized)\n"
      ],
      "execution_count": null,
      "outputs": [
        {
          "output_type": "execute_result",
          "data": {
            "text/plain": [
              "11464"
            ]
          },
          "metadata": {},
          "execution_count": 214
        }
      ]
    },
    {
      "cell_type": "code",
      "metadata": {
        "colab": {
          "base_uri": "https://localhost:8080/"
        },
        "id": "a9o-DpVKdsl_",
        "outputId": "d48a530a-8df3-4500-b426-fa0da6037fe0"
      },
      "source": [
        "# lowering alphabets\n",
        "macbeth_tokenized = [z.lower() for z in macbeth_tokenized]\n",
        "len(macbeth_tokenized)"
      ],
      "execution_count": null,
      "outputs": [
        {
          "output_type": "execute_result",
          "data": {
            "text/plain": [
              "11464"
            ]
          },
          "metadata": {},
          "execution_count": 215
        }
      ]
    },
    {
      "cell_type": "markdown",
      "metadata": {
        "id": "_WPhbsRXdOyM"
      },
      "source": [
        "## Question 5"
      ]
    },
    {
      "cell_type": "code",
      "metadata": {
        "colab": {
          "base_uri": "https://localhost:8080/"
        },
        "id": "qp6X9vVQxbYe",
        "outputId": "6ae888a2-7638-45b2-beaa-fa35b72b3592"
      },
      "source": [
        "# we use set() to create to create list of unique token values \n",
        "#Q5\n",
        "macbeth_tokenized_uniqueSet = set(macbeth_tokenized)\n",
        "len(macbeth_tokenized_uniqueSet)"
      ],
      "execution_count": null,
      "outputs": [
        {
          "output_type": "execute_result",
          "data": {
            "text/plain": [
              "3287"
            ]
          },
          "metadata": {},
          "execution_count": 216
        }
      ]
    },
    {
      "cell_type": "markdown",
      "metadata": {
        "id": "wqLpnwvXdKuK"
      },
      "source": [
        "## Question 6"
      ]
    },
    {
      "cell_type": "code",
      "metadata": {
        "colab": {
          "base_uri": "https://localhost:8080/"
        },
        "id": "XqiWBAWIIBR_",
        "outputId": "9345dcbb-b1a7-4945-93d3-bf5611e9db8d"
      },
      "source": [
        "from nltk import FreqDist\n",
        "macbeth_tokenized_freqdist = FreqDist(macbeth_tokenized)\n",
        "macbeth_tokenized_freqdist\n",
        "#Q6\n",
        "# average frequence appearance of each unique token\n",
        "average = len(macbeth_tokenized)/len(macbeth_tokenized_uniqueSet)\n",
        "average "
      ],
      "execution_count": null,
      "outputs": [
        {
          "output_type": "execute_result",
          "data": {
            "text/plain": [
              "3.487678734408275"
            ]
          },
          "metadata": {},
          "execution_count": 217
        }
      ]
    },
    {
      "cell_type": "code",
      "metadata": {
        "id": "k7oi2KPOKNV0"
      },
      "source": [
        "from nltk import FreqDist\n",
        "macbeth_tokenized_freqdist = FreqDist(macbeth_tokenized)\n",
        "\n",
        "#macbeth_tokenized_freqdist.Nr"
      ],
      "execution_count": null,
      "outputs": []
    },
    {
      "cell_type": "markdown",
      "metadata": {
        "id": "dTiOJ74mc_We"
      },
      "source": [
        "##Question 7"
      ]
    },
    {
      "cell_type": "code",
      "metadata": {
        "colab": {
          "base_uri": "https://localhost:8080/"
        },
        "id": "6gOXMjxgNcwG",
        "outputId": "b39bf8b5-ba23-404a-a3d6-d7aaeb0372d2"
      },
      "source": [
        "#Question 7 - finf the most common words used\n",
        "macbeth_tokenized_freqdist.most_common(10)"
      ],
      "execution_count": null,
      "outputs": [
        {
          "output_type": "execute_result",
          "data": {
            "text/plain": [
              "[('i', 330),\n",
              " ('and', 170),\n",
              " ('macb', 137),\n",
              " ('haue', 122),\n",
              " ('the', 119),\n",
              " ('thou', 87),\n",
              " ('enter', 81),\n",
              " ('that', 80),\n",
              " ('what', 73),\n",
              " ('to', 73)]"
            ]
          },
          "metadata": {},
          "execution_count": 219
        }
      ]
    },
    {
      "cell_type": "markdown",
      "metadata": {
        "id": "yJGwelmvc7tq"
      },
      "source": [
        "##Question8"
      ]
    },
    {
      "cell_type": "code",
      "metadata": {
        "colab": {
          "base_uri": "https://localhost:8080/"
        },
        "id": "ecOgdP0cNecE",
        "outputId": "d6d0a853-6392-4e1d-b800-48ff33e88a5e"
      },
      "source": [
        "# Question 8\n",
        "macbeth_tokenized_freqdist.freq('i')"
      ],
      "execution_count": null,
      "outputs": [
        {
          "output_type": "execute_result",
          "data": {
            "text/plain": [
              "0.0287857641311933"
            ]
          },
          "metadata": {},
          "execution_count": 220
        }
      ]
    },
    {
      "cell_type": "markdown",
      "metadata": {
        "id": "kd4RFy5-c5q8"
      },
      "source": [
        "## Question 9"
      ]
    },
    {
      "cell_type": "code",
      "metadata": {
        "colab": {
          "base_uri": "https://localhost:8080/"
        },
        "id": "2YdrOXiRNq_Z",
        "outputId": "bf646e58-932a-4aed-d83a-875113e9065a"
      },
      "source": [
        "#Question 9\n",
        "macbeth_tokenized_5= [w for w in macbeth_tokenized if (len(w)>5)]\n",
        "dist  = FreqDist(macbeth_tokenized_5)\n",
        "dist.most_common(5)\n",
        "# there are no token of size greater than 5 with more than 100 occcurences."
      ],
      "execution_count": null,
      "outputs": [
        {
          "output_type": "execute_result",
          "data": {
            "text/plain": [
              "[('macbeth', 62),\n",
              " ('banquo', 39),\n",
              " ('exeunt', 30),\n",
              " ('speake', 29),\n",
              " ('things', 23)]"
            ]
          },
          "metadata": {},
          "execution_count": 221
        }
      ]
    },
    {
      "cell_type": "markdown",
      "metadata": {
        "id": "OLmtegIp819h"
      },
      "source": [
        "there are no token of size greater than 5 with more than 100 occcurences."
      ]
    },
    {
      "cell_type": "code",
      "metadata": {
        "colab": {
          "base_uri": "https://localhost:8080/"
        },
        "id": "65qQVuRv8DuP",
        "outputId": "a71f69ae-331f-48fc-983a-b16fe4b3fd53"
      },
      "source": [
        "from nltk.util import ngrams\n",
        "macbeth_sentences "
      ],
      "execution_count": null,
      "outputs": [
        {
          "output_type": "execute_result",
          "data": {
            "text/plain": [
              "[['[', 'The', 'Tragedie', 'of', 'Macbeth', 'by', 'William', 'Shakespeare', '1603', ']'], ['Actus', 'Primus', '.'], ...]"
            ]
          },
          "metadata": {},
          "execution_count": 222
        }
      ]
    },
    {
      "cell_type": "code",
      "metadata": {
        "id": "w9PKA7sKVRaa"
      },
      "source": [
        "#macbeth_sentences was calculated earlier by this code\n",
        "macbeth_sentences = nltk.corpus.gutenberg.sents(shakespear)"
      ],
      "execution_count": null,
      "outputs": []
    },
    {
      "cell_type": "markdown",
      "metadata": {
        "id": "a1wfrI3hhQnS"
      },
      "source": [
        "## Question 10"
      ]
    },
    {
      "cell_type": "code",
      "metadata": {
        "id": "CgSUSFQ0WFWV"
      },
      "source": [
        "from nltk.util import ngrams\n",
        "import  re"
      ],
      "execution_count": null,
      "outputs": []
    },
    {
      "cell_type": "code",
      "metadata": {
        "id": "lTY9serzhYeN"
      },
      "source": [
        "pattern = re.compile('[a-z]+')\n",
        "tokens =pattern.findall(str(macbeth_tokenized))\n",
        "\n",
        "bigrams = [\" \".join(x) for x in ngrams(tokens, 3)]"
      ],
      "execution_count": null,
      "outputs": []
    },
    {
      "cell_type": "code",
      "metadata": {
        "id": "m1DxIaGShYhU"
      },
      "source": [
        "bigrams_freqDist = FreqDist(bigrams)"
      ],
      "execution_count": null,
      "outputs": []
    },
    {
      "cell_type": "code",
      "metadata": {
        "colab": {
          "base_uri": "https://localhost:8080/"
        },
        "id": "yrajXnLdhYnB",
        "outputId": "a2e1c1ed-2928-4793-e7ad-66d9b5d2c093"
      },
      "source": [
        "bigrams_freqDist.most_common(20)"
      ],
      "execution_count": null,
      "outputs": [
        {
          "output_type": "execute_result",
          "data": {
            "text/plain": [
              "[('knock knock knock', 6),\n",
              " ('enter macbeth macb', 5),\n",
              " ('i good lord', 5),\n",
              " ('enter three witches', 4),\n",
              " ('exeunt scena secunda', 4),\n",
              " ('i haue seene', 4),\n",
              " ('i see thee', 4),\n",
              " ('i haue done', 4),\n",
              " ('good lord macb', 4),\n",
              " ('exeunt scena tertia', 3),\n",
              " ('thunder enter three', 3),\n",
              " ('ile doe ile', 3),\n",
              " ('all haile macbeth', 3),\n",
              " ('exeunt scena quarta', 3),\n",
              " ('but i haue', 3),\n",
              " ('scena prima enter', 3),\n",
              " ('scena secunda enter', 3),\n",
              " ('knock knock who', 3),\n",
              " ('all double double', 3),\n",
              " ('trouble fire burne', 3)]"
            ]
          },
          "metadata": {},
          "execution_count": 227
        }
      ]
    },
    {
      "cell_type": "markdown",
      "metadata": {
        "id": "uEX-VSKecOq3"
      },
      "source": [
        "## Question 11"
      ]
    },
    {
      "cell_type": "code",
      "metadata": {
        "colab": {
          "base_uri": "https://localhost:8080/",
          "height": 36
        },
        "id": "AbNkLwtLEhko",
        "outputId": "df6a644c-66a0-4bd0-aa81-55ac73752fe8"
      },
      "source": [
        "macbeth_sentences = nltk.corpus.gutenberg.sents(shakespear)\n",
        "\n",
        "first_sentence =str( macbeth_sentences[:1])# slicing to get the first sentence \n",
        "# converting into STR because we needed to put it in a string variable according to the question\n",
        "first_sentence"
      ],
      "execution_count": null,
      "outputs": [
        {
          "output_type": "execute_result",
          "data": {
            "application/vnd.google.colaboratory.intrinsic+json": {
              "type": "string"
            },
            "text/plain": [
              "\"[['[', 'The', 'Tragedie', 'of', 'Macbeth', 'by', 'William', 'Shakespeare', '1603', ']']]\""
            ]
          },
          "metadata": {},
          "execution_count": 228
        }
      ]
    },
    {
      "cell_type": "markdown",
      "metadata": {
        "id": "sEoFvKorcVpW"
      },
      "source": [
        "## Question 12"
      ]
    },
    {
      "cell_type": "code",
      "metadata": {
        "colab": {
          "base_uri": "https://localhost:8080/"
        },
        "id": "18bbS7gfI4Ys",
        "outputId": "bca72966-fac6-4460-e7aa-e2abe0d883ab"
      },
      "source": [
        "import re\n",
        "str(first_sentence)\n",
        "pattern = re.compile('[A-Za-z]+')\n",
        "type(pattern)"
      ],
      "execution_count": null,
      "outputs": [
        {
          "output_type": "execute_result",
          "data": {
            "text/plain": [
              "re.Pattern"
            ]
          },
          "metadata": {},
          "execution_count": 229
        }
      ]
    },
    {
      "cell_type": "code",
      "metadata": {
        "colab": {
          "base_uri": "https://localhost:8080/"
        },
        "id": "Q3nOoKx9KAmU",
        "outputId": "8839e528-8018-4cf4-cf7c-7092546b4671"
      },
      "source": [
        "type(first_sentence)\n",
        "print(pattern.findall(first_sentence))"
      ],
      "execution_count": null,
      "outputs": [
        {
          "output_type": "stream",
          "name": "stdout",
          "text": [
            "['The', 'Tragedie', 'of', 'Macbeth', 'by', 'William', 'Shakespeare']\n"
          ]
        }
      ]
    },
    {
      "cell_type": "markdown",
      "metadata": {
        "id": "KA0XmVEceINT"
      },
      "source": [
        "## Question 13"
      ]
    },
    {
      "cell_type": "code",
      "metadata": {
        "id": "we_qAf6xeKLj"
      },
      "source": [
        "first_sentence_split = pattern.findall(first_sentence)\n",
        "\n",
        "first_sentence_split = str(first_sentence_split).replace(' ','-')"
      ],
      "execution_count": null,
      "outputs": []
    },
    {
      "cell_type": "code",
      "metadata": {
        "colab": {
          "base_uri": "https://localhost:8080/",
          "height": 36
        },
        "id": "D3iCAYTceM6Y",
        "outputId": "3a40cf1b-c8e7-4d7f-b617-eb692030bc1d"
      },
      "source": [
        "first_sentence_split"
      ],
      "execution_count": null,
      "outputs": [
        {
          "output_type": "execute_result",
          "data": {
            "application/vnd.google.colaboratory.intrinsic+json": {
              "type": "string"
            },
            "text/plain": [
              "\"['The',-'Tragedie',-'of',-'Macbeth',-'by',-'William',-'Shakespeare']\""
            ]
          },
          "metadata": {},
          "execution_count": 232
        }
      ]
    },
    {
      "cell_type": "markdown",
      "metadata": {
        "id": "7ee9hFw-cKFI"
      },
      "source": [
        "## Question 14"
      ]
    },
    {
      "cell_type": "code",
      "metadata": {
        "id": "ERHJjws6bZBN"
      },
      "source": [
        "macbeth_with_e= [w for w in macbeth if (w=='e')]"
      ],
      "execution_count": null,
      "outputs": []
    },
    {
      "cell_type": "code",
      "metadata": {
        "colab": {
          "base_uri": "https://localhost:8080/"
        },
        "id": "RBEGz3prb6vv",
        "outputId": "4638b0db-09f6-4cba-dfaa-f389472b6b5f"
      },
      "source": [
        "# count of letter e in whole macbeth\n",
        "len(macbeth_with_e)"
      ],
      "execution_count": null,
      "outputs": [
        {
          "output_type": "execute_result",
          "data": {
            "text/plain": [
              "10132"
            ]
          },
          "metadata": {},
          "execution_count": 234
        }
      ]
    },
    {
      "cell_type": "code",
      "metadata": {
        "colab": {
          "base_uri": "https://localhost:8080/"
        },
        "id": "txuzxg7Lb-nd",
        "outputId": "0396d27a-8c2e-4dba-a81c-15382bc34904"
      },
      "source": [
        "# count of letter e in first_sentence\n",
        "first_sentence_with_e= [w for w in first_sentence if (w=='e')]\n",
        "len(first_sentence_with_e)"
      ],
      "execution_count": null,
      "outputs": [
        {
          "output_type": "execute_result",
          "data": {
            "text/plain": [
              "7"
            ]
          },
          "metadata": {},
          "execution_count": 235
        }
      ]
    },
    {
      "cell_type": "code",
      "metadata": {
        "id": "JQvoiwd8fV_i"
      },
      "source": [
        ""
      ],
      "execution_count": null,
      "outputs": []
    }
  ]
}