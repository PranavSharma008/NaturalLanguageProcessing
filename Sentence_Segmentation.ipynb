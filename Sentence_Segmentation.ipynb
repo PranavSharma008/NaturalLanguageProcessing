{
  "nbformat": 4,
  "nbformat_minor": 0,
  "metadata": {
    "colab": {
      "name": "Sentence Segmentation.ipynb",
      "provenance": [],
      "collapsed_sections": []
    },
    "kernelspec": {
      "name": "python3",
      "display_name": "Python 3"
    },
    "language_info": {
      "name": "python"
    }
  },
  "cells": [
    {
      "cell_type": "markdown",
      "source": [
        "# Examples of supervised classification"
      ],
      "metadata": {
        "id": "9eaTRBS9ToLU"
      }
    },
    {
      "cell_type": "markdown",
      "source": [
        "## Sentence Segmentation"
      ],
      "metadata": {
        "id": "wIZzG3as3fTN"
      }
    },
    {
      "cell_type": "markdown",
      "source": [
        "Sentence segmentation can be loooked as classification task for punctuation, whenever we encounter a symbol that could possibly end a sentence, such a period or a question mark, we have to decide whether it terminates the preceding sentence"
      ],
      "metadata": {
        "id": "NvQ7XW9ZTnkH"
      }
    },
    {
      "cell_type": "code",
      "source": [
        "import nltk\n",
        "nltk.download('treebank')"
      ],
      "metadata": {
        "colab": {
          "base_uri": "https://localhost:8080/"
        },
        "id": "GPAJiTyjUIpR",
        "outputId": "652864ae-80e6-4275-b315-857f9725ee86"
      },
      "execution_count": null,
      "outputs": [
        {
          "output_type": "stream",
          "name": "stdout",
          "text": [
            "[nltk_data] Downloading package treebank to /root/nltk_data...\n",
            "[nltk_data]   Unzipping corpora/treebank.zip.\n"
          ]
        },
        {
          "output_type": "execute_result",
          "data": {
            "text/plain": [
              "True"
            ]
          },
          "metadata": {},
          "execution_count": 4
        }
      ]
    },
    {
      "cell_type": "code",
      "source": [
        "nltk.download('punkt')"
      ],
      "metadata": {
        "colab": {
          "base_uri": "https://localhost:8080/"
        },
        "id": "mJb3X14nUuuB",
        "outputId": "61a11a1c-0742-4c62-8f95-0c65be0e7f6b"
      },
      "execution_count": null,
      "outputs": [
        {
          "output_type": "stream",
          "name": "stdout",
          "text": [
            "[nltk_data] Downloading package punkt to /root/nltk_data...\n",
            "[nltk_data]   Unzipping tokenizers/punkt.zip.\n"
          ]
        },
        {
          "output_type": "execute_result",
          "data": {
            "text/plain": [
              "True"
            ]
          },
          "metadata": {},
          "execution_count": 7
        }
      ]
    },
    {
      "cell_type": "code",
      "source": [
        "sents = nltk.corpus.treebank_raw.sents()"
      ],
      "metadata": {
        "id": "8tseTxG4UChJ"
      },
      "execution_count": null,
      "outputs": []
    },
    {
      "cell_type": "code",
      "source": [
        "tokens=[]\n",
        "boundaries = set()\n",
        "offset=0\n",
        "for sent in sents:\n",
        "  tokens.extend(sent)\n",
        "  offset +=len(sent)\n",
        "  boundaries.add(offset-1)"
      ],
      "metadata": {
        "id": "cYjgZ3ANUGRE"
      },
      "execution_count": null,
      "outputs": []
    },
    {
      "cell_type": "code",
      "source": [
        "def punct_features(tokens,i):\n",
        "  return { 'next-word-capitalized':tokens[i+1][0].isupper(),\n",
        "          'prev-word':tokens[i-1].lower(),\n",
        "          'punct':tokens[i],\n",
        "          'prev-word-is-one-char': len(tokens[i-1])==1\n",
        "          }"
      ],
      "metadata": {
        "id": "nZ-phHFEUoz2"
      },
      "execution_count": null,
      "outputs": []
    },
    {
      "cell_type": "code",
      "source": [
        "featuresets = [(punct_features(tokens,i),(i in boundaries)) \n",
        "              for i in range(1,len(tokens)-1) if tokens[i] in '.?!']"
      ],
      "metadata": {
        "id": "x2pGQthXVQg5"
      },
      "execution_count": null,
      "outputs": []
    },
    {
      "cell_type": "code",
      "source": [
        "size = int(len(featuresets) * 0.1)"
      ],
      "metadata": {
        "id": "X-hAIOayVllb"
      },
      "execution_count": null,
      "outputs": []
    },
    {
      "cell_type": "code",
      "source": [
        "train_set , test_set = featuresets[size:],featuresets[:size]"
      ],
      "metadata": {
        "id": "MnD71PcLVvMV"
      },
      "execution_count": null,
      "outputs": []
    },
    {
      "cell_type": "code",
      "source": [
        "classifier =  nltk.NaiveBayesClassifier.train(train_set)"
      ],
      "metadata": {
        "id": "Aw-EgSPmV-fs"
      },
      "execution_count": null,
      "outputs": []
    },
    {
      "cell_type": "code",
      "source": [
        "nltk.classify.accuracy(classifier,test_set)"
      ],
      "metadata": {
        "colab": {
          "base_uri": "https://localhost:8080/"
        },
        "id": "cmSGr3IgWDX2",
        "outputId": "8c8a3441-d32b-47ce-9290-7a71968cf537"
      },
      "execution_count": null,
      "outputs": [
        {
          "output_type": "execute_result",
          "data": {
            "text/plain": [
              "0.936026936026936"
            ]
          },
          "metadata": {},
          "execution_count": 18
        }
      ]
    },
    {
      "cell_type": "code",
      "source": [
        "def segment_sentences(words):\n",
        "  start = 0\n",
        "  sents = []\n",
        "  for i, word in enumerate(words):\n",
        "    if word in '.?!' and classifier.classify(punct_features(words,i))==True:\n",
        "      sents.append(words[start:i+1])\n",
        "      start = i+1\n",
        "    if start < len(words):\n",
        "      sents.append(words[start:])\n",
        "    return sents"
      ],
      "metadata": {
        "id": "p6xKRNhuWKF9"
      },
      "execution_count": null,
      "outputs": []
    },
    {
      "cell_type": "markdown",
      "source": [
        "## Identifying Dialogue Act Types"
      ],
      "metadata": {
        "id": "IAwMX0CDW5gd"
      }
    },
    {
      "cell_type": "code",
      "source": [
        "nltk.download"
      ],
      "metadata": {
        "id": "REREoGB1ackl"
      },
      "execution_count": null,
      "outputs": []
    },
    {
      "cell_type": "code",
      "source": [
        ""
      ],
      "metadata": {
        "id": "S0CYKCzGaaCb"
      },
      "execution_count": null,
      "outputs": []
    }
  ]
}